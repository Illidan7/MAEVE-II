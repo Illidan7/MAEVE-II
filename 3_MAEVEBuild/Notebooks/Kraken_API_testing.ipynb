{
 "cells": [
  {
   "cell_type": "code",
   "execution_count": 4,
   "metadata": {},
   "outputs": [],
   "source": [
    "import requests\n",
    "import pandas as pd\n",
    "\n",
    "import sys\n",
    "\n",
    "sys.path.append(\"S://Docs//Personal//MAEVE//Data//Config//\")\n",
    "\n",
    "from config import *"
   ]
  },
  {
   "attachments": {},
   "cell_type": "markdown",
   "metadata": {},
   "source": [
    "## Get Historical data"
   ]
  },
  {
   "cell_type": "code",
   "execution_count": 3,
   "metadata": {},
   "outputs": [
    {
     "name": "stdout",
     "output_type": "stream",
     "text": [
      "(720, 8)\n"
     ]
    }
   ],
   "source": [
    "resp = requests.get('https://api.kraken.com/0/public/OHLC?pair=XBTUSD&interval=60')\n",
    "\n",
    "df = pd.DataFrame(resp.json()['result']['XXBTZUSD'], columns=['time', 'open', 'high', 'low', 'close', 'vwap', 'volume', 'count'])\n",
    "df['time'] = pd.to_datetime(df['time'], unit='s')\n",
    "\n",
    "print(df.shape)"
   ]
  },
  {
   "attachments": {},
   "cell_type": "markdown",
   "metadata": {},
   "source": [
    "## Get price"
   ]
  },
  {
   "cell_type": "code",
   "execution_count": 4,
   "metadata": {},
   "outputs": [
    {
     "name": "stdout",
     "output_type": "stream",
     "text": [
      "Current price of BTC: 23387.00000\n"
     ]
    }
   ],
   "source": [
    "import requests\n",
    "\n",
    "url = \"https://api.kraken.com/0/public/Ticker?pair=XBTUSD\"\n",
    "\n",
    "response = requests.get(url)\n",
    "data = response.json()\n",
    "\n",
    "price = data['result']['XXBTZUSD']['c'][0]\n",
    "print(\"Current price of BTC:\", price)"
   ]
  },
  {
   "attachments": {},
   "cell_type": "markdown",
   "metadata": {},
   "source": [
    "## Get USD balance"
   ]
  },
  {
   "cell_type": "code",
   "execution_count": 12,
   "metadata": {},
   "outputs": [],
   "source": []
  },
  {
   "cell_type": "code",
   "execution_count": 3,
   "metadata": {},
   "outputs": [
    {
     "ename": "NameError",
     "evalue": "name 'API_KEY' is not defined",
     "output_type": "error",
     "traceback": [
      "\u001b[1;31m---------------------------------------------------------------------------\u001b[0m",
      "\u001b[1;31mNameError\u001b[0m                                 Traceback (most recent call last)",
      "Cell \u001b[1;32mIn[3], line 39\u001b[0m\n\u001b[0;32m     35\u001b[0m     \u001b[39mreturn\u001b[39;00m req\n\u001b[0;32m     38\u001b[0m \u001b[39m# Construct the request and print the result\u001b[39;00m\n\u001b[1;32m---> 39\u001b[0m resp \u001b[39m=\u001b[39m kraken_request(\u001b[39m'\u001b[39;49m\u001b[39m/0/private/Balance\u001b[39;49m\u001b[39m'\u001b[39;49m, {\n\u001b[0;32m     40\u001b[0m     \u001b[39m\"\u001b[39;49m\u001b[39mnonce\u001b[39;49m\u001b[39m\"\u001b[39;49m: \u001b[39mstr\u001b[39;49m(\u001b[39mint\u001b[39;49m(\u001b[39m1000\u001b[39;49m\u001b[39m*\u001b[39;49mtime\u001b[39m.\u001b[39;49mtime()))\n\u001b[0;32m     41\u001b[0m })\n\u001b[0;32m     44\u001b[0m \u001b[39mprint\u001b[39m(resp\u001b[39m.\u001b[39mjson())\n",
      "Cell \u001b[1;32mIn[3], line 31\u001b[0m, in \u001b[0;36mkraken_request\u001b[1;34m(uri_path, data)\u001b[0m\n\u001b[0;32m     29\u001b[0m \u001b[39mdef\u001b[39;00m \u001b[39mkraken_request\u001b[39m(uri_path, data):\n\u001b[0;32m     30\u001b[0m     headers \u001b[39m=\u001b[39m {}\n\u001b[1;32m---> 31\u001b[0m     headers[\u001b[39m'\u001b[39m\u001b[39mAPI-Key\u001b[39m\u001b[39m'\u001b[39m] \u001b[39m=\u001b[39m API_KEY\n\u001b[0;32m     32\u001b[0m     \u001b[39m# get_kraken_signature() as defined in the 'Authentication' section\u001b[39;00m\n\u001b[0;32m     33\u001b[0m     headers[\u001b[39m'\u001b[39m\u001b[39mAPI-Sign\u001b[39m\u001b[39m'\u001b[39m] \u001b[39m=\u001b[39m get_kraken_signature(uri_path, data, SECRET_KEY)\n",
      "\u001b[1;31mNameError\u001b[0m: name 'API_KEY' is not defined"
     ]
    }
   ],
   "source": [
    "import time\n",
    "import os\n",
    "import requests\n",
    "\n",
    "import urllib.parse\n",
    "import hashlib\n",
    "import hmac\n",
    "import base64\n",
    "\n",
    "\n",
    "def get_kraken_signature(urlpath, data, secret):\n",
    "\n",
    "    postdata = urllib.parse.urlencode(data)\n",
    "    encoded = (str(data['nonce']) + postdata).encode()\n",
    "    message = urlpath.encode() + hashlib.sha256(encoded).digest()\n",
    "\n",
    "    mac = hmac.new(base64.b64decode(secret), message, hashlib.sha512)\n",
    "    sigdigest = base64.b64encode(mac.digest())\n",
    "    return sigdigest.decode()\n",
    "\n",
    "\n",
    "\n",
    "# Read Kraken API key and secret stored in environment variables\n",
    "api_url = \"https://api.kraken.com\"\n",
    "\n",
    "# Attaches auth headers and returns results of a POST request\n",
    "\n",
    "\n",
    "def kraken_request(uri_path, data):\n",
    "    headers = {}\n",
    "    headers['API-Key'] = API_KEY\n",
    "    # get_kraken_signature() as defined in the 'Authentication' section\n",
    "    headers['API-Sign'] = get_kraken_signature(uri_path, data, SECRET_KEY)\n",
    "    req = requests.post((api_url + uri_path), headers=headers, data=data)\n",
    "    return req\n",
    "\n",
    "\n",
    "# Construct the request and print the result\n",
    "resp = kraken_request('/0/private/Balance', {\n",
    "    \"nonce\": str(int(1000*time.time()))\n",
    "})\n",
    "\n",
    "\n",
    "print(resp.json())\n"
   ]
  },
  {
   "cell_type": "code",
   "execution_count": 31,
   "metadata": {},
   "outputs": [
    {
     "data": {
      "text/plain": [
       "'0.0042'"
      ]
     },
     "execution_count": 31,
     "metadata": {},
     "output_type": "execute_result"
    }
   ],
   "source": [
    "resp.json()['result']['ZUSD']\n"
   ]
  },
  {
   "attachments": {},
   "cell_type": "markdown",
   "metadata": {},
   "source": [
    "## Asset info"
   ]
  },
  {
   "cell_type": "code",
   "execution_count": 21,
   "metadata": {},
   "outputs": [
    {
     "name": "stdout",
     "output_type": "stream",
     "text": [
      "{'error': [], 'result': {'XXBT': {'aclass': 'currency', 'altname': 'XBT', 'decimals': 10, 'display_decimals': 5, 'collateral_value': 1.0, 'status': 'enabled'}}}\n"
     ]
    }
   ],
   "source": [
    "import requests\n",
    "\n",
    "resp = requests.get('https://api.kraken.com/0/public/Assets?asset=XBT')\n",
    "\n",
    "print(resp.json())\n"
   ]
  },
  {
   "cell_type": "code",
   "execution_count": 20,
   "metadata": {},
   "outputs": [
    {
     "name": "stdout",
     "output_type": "stream",
     "text": [
      "{'error': [], 'result': {'XETHXXBT': {'altname': 'ETHXBT', 'wsname': 'ETH/XBT', 'aclass_base': 'currency', 'base': 'XETH', 'aclass_quote': 'currency', 'quote': 'XXBT', 'lot': 'unit', 'cost_decimals': 6, 'pair_decimals': 5, 'lot_decimals': 8, 'lot_multiplier': 1, 'leverage_buy': [2, 3, 4, 5], 'leverage_sell': [2, 3, 4, 5], 'fees': [[0, 0.26], [50000, 0.24], [100000, 0.22], [250000, 0.2], [500000, 0.18], [1000000, 0.16], [2500000, 0.14], [5000000, 0.12], [10000000, 0.1], [100000000, 0.08]], 'fees_maker': [[0, 0.16], [50000, 0.14], [100000, 0.12], [250000, 0.1], [500000, 0.08], [1000000, 0.06], [2500000, 0.04], [5000000, 0.02], [10000000, 0.0], [100000000, 0.0]], 'fee_volume_currency': 'ZUSD', 'margin_call': 80, 'margin_stop': 40, 'ordermin': '0.01', 'costmin': '0.00002', 'tick_size': '0.00001', 'status': 'online', 'long_position_limit': 550, 'short_position_limit': 470}, 'XXBTZUSD': {'altname': 'XBTUSD', 'wsname': 'XBT/USD', 'aclass_base': 'currency', 'base': 'XXBT', 'aclass_quote': 'currency', 'quote': 'ZUSD', 'lot': 'unit', 'cost_decimals': 5, 'pair_decimals': 1, 'lot_decimals': 8, 'lot_multiplier': 1, 'leverage_buy': [2, 3, 4, 5], 'leverage_sell': [2, 3, 4, 5], 'fees': [[0, 0.26], [50000, 0.24], [100000, 0.22], [250000, 0.2], [500000, 0.18], [1000000, 0.16], [2500000, 0.14], [5000000, 0.12], [10000000, 0.1], [100000000, 0.08]], 'fees_maker': [[0, 0.16], [50000, 0.14], [100000, 0.12], [250000, 0.1], [500000, 0.08], [1000000, 0.06], [2500000, 0.04], [5000000, 0.02], [10000000, 0.0], [100000000, 0.0]], 'fee_volume_currency': 'ZUSD', 'margin_call': 80, 'margin_stop': 40, 'ordermin': '0.0001', 'costmin': '0.5', 'tick_size': '0.1', 'status': 'online', 'long_position_limit': 270, 'short_position_limit': 180}}}\n"
     ]
    }
   ],
   "source": [
    "import requests\n",
    "\n",
    "resp = requests.get('https://api.kraken.com/0/public/AssetPairs?pair=XXBTZUSD,XETHXXBT')\n",
    "\n",
    "print(resp.json())"
   ]
  },
  {
   "attachments": {},
   "cell_type": "markdown",
   "metadata": {},
   "source": [
    "## Place SELL order"
   ]
  },
  {
   "cell_type": "code",
   "execution_count": 13,
   "metadata": {},
   "outputs": [],
   "source": [
    "def SELL(qty, price, symbol=\"XBTUSD\"):\n",
    "        \n",
    "        resp = kraken_request('/0/private/AddOrder', {\n",
    "                                                        \"nonce\": str(int(1000*time.time())),\n",
    "                                                        \"ordertype\": \"limit\",\n",
    "                                                        \"type\": \"sell\",\n",
    "                                                        \"volume\": qty,\n",
    "                                                        \"pair\": symbol,\n",
    "                                                        \"price\": price\n",
    "                                                    })\n",
    "        \n",
    "        \n",
    "        return resp\n",
    "        # return resp.json()['result']['ordernum']"
   ]
  },
  {
   "cell_type": "code",
   "execution_count": 23,
   "metadata": {},
   "outputs": [],
   "source": [
    "resp = SELL(qty=0.002, price=22500, symbol=\"XBTUSD\")"
   ]
  },
  {
   "cell_type": "code",
   "execution_count": 24,
   "metadata": {},
   "outputs": [
    {
     "data": {
      "text/plain": [
       "{'error': ['EOrder:Insufficient funds']}"
      ]
     },
     "execution_count": 24,
     "metadata": {},
     "output_type": "execute_result"
    }
   ],
   "source": [
    "resp.json()"
   ]
  },
  {
   "attachments": {},
   "cell_type": "markdown",
   "metadata": {},
   "source": [
    "## Place BUY order"
   ]
  },
  {
   "cell_type": "code",
   "execution_count": 29,
   "metadata": {},
   "outputs": [],
   "source": [
    "def BUY(qty, price, symbol=\"XBTUSD\"):\n",
    "        \n",
    "        resp = kraken_request('/0/private/AddOrder', {\n",
    "                                                        \"nonce\": str(int(1000*time.time())),\n",
    "                                                        \"ordertype\": \"limit\",\n",
    "                                                        \"type\": \"buy\",\n",
    "                                                        \"volume\": qty,\n",
    "                                                        \"pair\": symbol,\n",
    "                                                        \"price\": price\n",
    "                                                    })\n",
    "        \n",
    "        return resp\n",
    "        # return resp.json()['result']['ordernum']"
   ]
  },
  {
   "cell_type": "code",
   "execution_count": 46,
   "metadata": {},
   "outputs": [],
   "source": [
    "resp = BUY(qty=0.00086, price=23000, symbol=\"XBTUSD\")"
   ]
  },
  {
   "cell_type": "code",
   "execution_count": 45,
   "metadata": {},
   "outputs": [
    {
     "data": {
      "text/plain": [
       "0.00086695132"
      ]
     },
     "execution_count": 45,
     "metadata": {},
     "output_type": "execute_result"
    }
   ],
   "source": [
    "0.00086956*0.997"
   ]
  },
  {
   "cell_type": "code",
   "execution_count": 44,
   "metadata": {},
   "outputs": [
    {
     "data": {
      "text/plain": [
       "0.0008695652173913044"
      ]
     },
     "execution_count": 44,
     "metadata": {},
     "output_type": "execute_result"
    }
   ],
   "source": [
    "20/23000"
   ]
  },
  {
   "cell_type": "code",
   "execution_count": 47,
   "metadata": {},
   "outputs": [
    {
     "data": {
      "text/plain": [
       "{'error': [],\n",
       " 'result': {'txid': ['O5SJJX-DPZYE-R4P7WL'],\n",
       "  'descr': {'order': 'buy 0.00086000 XBTUSD @ limit 23000.0'}}}"
      ]
     },
     "execution_count": 47,
     "metadata": {},
     "output_type": "execute_result"
    }
   ],
   "source": [
    "resp.json()"
   ]
  },
  {
   "attachments": {},
   "cell_type": "markdown",
   "metadata": {},
   "source": [
    "## Calculate MA"
   ]
  },
  {
   "cell_type": "code",
   "execution_count": 5,
   "metadata": {},
   "outputs": [
    {
     "ename": "NameError",
     "evalue": "name 'HIST_PRICE' is not defined",
     "output_type": "error",
     "traceback": [
      "\u001b[1;31m---------------------------------------------------------------------------\u001b[0m",
      "\u001b[1;31mNameError\u001b[0m                                 Traceback (most recent call last)",
      "Cell \u001b[1;32mIn[5], line 4\u001b[0m\n\u001b[0;32m      1\u001b[0m symbol\u001b[39m=\u001b[39m\u001b[39m\"\u001b[39m\u001b[39mXBTUSD\u001b[39m\u001b[39m\"\u001b[39m\n\u001b[0;32m      2\u001b[0m timeframe\u001b[39m=\u001b[39m\u001b[39m60\u001b[39m\n\u001b[1;32m----> 4\u001b[0m hist_df \u001b[39m=\u001b[39m HIST_PRICE(symbol\u001b[39m=\u001b[39msymbol, timeframe\u001b[39m=\u001b[39mtimeframe)\n\u001b[0;32m      5\u001b[0m MA1 \u001b[39m=\u001b[39m CALC_MA(hist_df, timeperiod\u001b[39m=\u001b[39mMA)\n\u001b[0;32m      6\u001b[0m maxtime \u001b[39m=\u001b[39m MA1[\u001b[39m'\u001b[39m\u001b[39mtimestamp\u001b[39m\u001b[39m'\u001b[39m]\u001b[39m.\u001b[39mmax()        \n",
      "\u001b[1;31mNameError\u001b[0m: name 'HIST_PRICE' is not defined"
     ]
    }
   ],
   "source": []
  },
  {
   "cell_type": "code",
   "execution_count": 2,
   "metadata": {},
   "outputs": [
    {
     "name": "stdout",
     "output_type": "stream",
     "text": [
      "21861.641666666666\n",
      "22167.254999999997\n"
     ]
    }
   ],
   "source": [
    "import sys\n",
    "sys.path.append(\"S://Docs//Personal//MAEVE//MAEVE-II//3_Implementation//Scripts//\")\n",
    "\n",
    "import KrakenTrader as krkn\n",
    "\n",
    "trader = krkn.KrakenTrader()\n",
    "\n",
    " # Get MAs\n",
    "MA1 = trader.GET_MA(12)\n",
    "MA2 = trader.GET_MA(20)\n",
    "\n",
    "print(MA1)\n",
    "print(MA2)"
   ]
  },
  {
   "cell_type": "code",
   "execution_count": 13,
   "metadata": {},
   "outputs": [
    {
     "name": "stdout",
     "output_type": "stream",
     "text": [
      "22212.215\n"
     ]
    }
   ],
   "source": [
    "symbol=\"XBTUSD\"\n",
    "timeframe=60\n",
    "MA = 20\n",
    "\n",
    "hist_df = trader.HIST_PRICE(symbol=symbol, timeframe=timeframe)\n",
    "MA1 = trader.CALC_MA(hist_df, timeperiod=MA)\n",
    "maxtime = MA1['time'].max()        \n",
    "\n",
    "print(MA1[MA1['time']==maxtime][f'MA{MA}'].values[0])"
   ]
  }
 ],
 "metadata": {
  "kernelspec": {
   "display_name": "Python 3",
   "language": "python",
   "name": "python3"
  },
  "language_info": {
   "codemirror_mode": {
    "name": "ipython",
    "version": 3
   },
   "file_extension": ".py",
   "mimetype": "text/x-python",
   "name": "python",
   "nbconvert_exporter": "python",
   "pygments_lexer": "ipython3",
   "version": "3.10.10"
  },
  "orig_nbformat": 4,
  "vscode": {
   "interpreter": {
    "hash": "6d739d11eeae48e7d68aed3be280d72ce9447f75811953e9348ccec163806a34"
   }
  }
 },
 "nbformat": 4,
 "nbformat_minor": 2
}
