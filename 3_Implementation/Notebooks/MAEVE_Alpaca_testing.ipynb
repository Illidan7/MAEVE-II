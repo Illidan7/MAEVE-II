{
 "cells": [
  {
   "attachments": {},
   "cell_type": "markdown",
   "metadata": {},
   "source": [
    "## Import libraries"
   ]
  },
  {
   "cell_type": "code",
   "execution_count": 6,
   "metadata": {},
   "outputs": [],
   "source": [
    "import pandas as pd\n",
    "import numpy as np\n",
    "\n",
    "import datetime\n",
    "from datetime import timedelta\n",
    "\n",
    "from tqdm.notebook import tqdm\n",
    "\n",
    "import plotly.graph_objects as go\n"
   ]
  },
  {
   "cell_type": "code",
   "execution_count": 7,
   "metadata": {},
   "outputs": [],
   "source": [
    "# Importing the api and instantiating the rest client according to our keys\n",
    "from config import *\n",
    "import alpaca_trade_api as api\n",
    "import random\n",
    "\n",
    "import sys\n",
    "\n",
    "sys.path.append(\"S://Docs//Personal//MAEVE//Data//Config//\")\n",
    "\n",
    "alpaca = api.REST(API_KEY, API_SECRET, BASE_URL)\n"
   ]
  },
  {
   "attachments": {},
   "cell_type": "markdown",
   "metadata": {},
   "source": [
    "## BUY limit order"
   ]
  },
  {
   "cell_type": "code",
   "execution_count": 10,
   "metadata": {},
   "outputs": [
    {
     "data": {
      "text/plain": [
       "Order({   'asset_class': 'crypto',\n",
       "    'asset_id': '276e2673-764b-4ab6-a611-caf665ca6340',\n",
       "    'canceled_at': None,\n",
       "    'client_order_id': '140e4053-c435-4be3-b612-7d0437066a6e',\n",
       "    'created_at': '2023-02-01T06:00:45.988214756Z',\n",
       "    'expired_at': None,\n",
       "    'extended_hours': False,\n",
       "    'failed_at': None,\n",
       "    'filled_at': None,\n",
       "    'filled_avg_price': None,\n",
       "    'filled_qty': '0',\n",
       "    'hwm': None,\n",
       "    'id': '486b8034-0e9b-464a-ac68-0d51fbaacf2d',\n",
       "    'legs': None,\n",
       "    'limit_price': '20000',\n",
       "    'notional': None,\n",
       "    'order_class': '',\n",
       "    'order_type': 'limit',\n",
       "    'qty': '1',\n",
       "    'replaced_at': None,\n",
       "    'replaced_by': None,\n",
       "    'replaces': None,\n",
       "    'side': 'buy',\n",
       "    'source': None,\n",
       "    'status': 'pending_new',\n",
       "    'stop_price': None,\n",
       "    'submitted_at': '2023-02-01T06:00:45.986791527Z',\n",
       "    'subtag': None,\n",
       "    'symbol': 'BTC/USD',\n",
       "    'time_in_force': 'gtc',\n",
       "    'trail_percent': None,\n",
       "    'trail_price': None,\n",
       "    'type': 'limit',\n",
       "    'updated_at': '2023-02-01T06:00:45.988271036Z'})"
      ]
     },
     "execution_count": 10,
     "metadata": {},
     "output_type": "execute_result"
    }
   ],
   "source": [
    "# Buy BTC\n",
    "alpaca.submit_order(\n",
    "    symbol='BTC/USD',\n",
    "    qty=1,\n",
    "    side='buy',\n",
    "    type='limit',\n",
    "    time_in_force='gtc',\n",
    "    limit_price='20000'\n",
    ")"
   ]
  },
  {
   "attachments": {},
   "cell_type": "markdown",
   "metadata": {},
   "source": [
    "## SELL limit order"
   ]
  },
  {
   "cell_type": "code",
   "execution_count": 24,
   "metadata": {},
   "outputs": [],
   "source": [
    "# Sell BTC\n",
    "alpaca.submit_order(\n",
    "    symbol='BTC/USD',\n",
    "    qty=0.99,\n",
    "    side='sell',\n",
    "    type='limit',\n",
    "    time_in_force='gtc',\n",
    "    limit_price='20000'\n",
    ")\n"
   ]
  },
  {
   "attachments": {},
   "cell_type": "markdown",
   "metadata": {},
   "source": [
    "## Cancel open orders"
   ]
  },
  {
   "cell_type": "code",
   "execution_count": 25,
   "metadata": {},
   "outputs": [],
   "source": [
    "# Cancel all open orders\n",
    "alpaca.cancel_all_orders()"
   ]
  },
  {
   "attachments": {},
   "cell_type": "markdown",
   "metadata": {},
   "source": [
    "## Cancel specific order"
   ]
  },
  {
   "cell_type": "code",
   "execution_count": null,
   "metadata": {},
   "outputs": [],
   "source": [
    "# Get the order ID of the order to be cancelled\n",
    "order_id = '<ORDER_ID>'\n",
    "\n",
    "# Cancel the specific order\n",
    "alpaca.cancel_order(order_id)\n"
   ]
  },
  {
   "attachments": {},
   "cell_type": "markdown",
   "metadata": {},
   "source": [
    "## Stop loss order"
   ]
  },
  {
   "cell_type": "code",
   "execution_count": 34,
   "metadata": {},
   "outputs": [],
   "source": [
    "# # Buy 1 BTC with a stop loss order\n",
    "# alpaca.submit_order(\n",
    "#     symbol='BTC/USD',\n",
    "#     qty=1,\n",
    "#     side='buy',\n",
    "#     type='stop_loss',\n",
    "#     time_in_force='gtc',\n",
    "#     stop_loss={'stop_price': 45000}\n",
    "# )\n"
   ]
  },
  {
   "attachments": {},
   "cell_type": "markdown",
   "metadata": {},
   "source": [
    "## SHORT market order"
   ]
  },
  {
   "cell_type": "code",
   "execution_count": 35,
   "metadata": {},
   "outputs": [],
   "source": [
    "\n",
    "# # Short 1 BTC with a market order\n",
    "# alpaca.submit_order(\n",
    "#     symbol='BTC/USD',\n",
    "#     qty=-1,\n",
    "#     side='sell',\n",
    "#     type='market',\n",
    "#     time_in_force='gtc'\n",
    "# )\n"
   ]
  },
  {
   "attachments": {},
   "cell_type": "markdown",
   "metadata": {},
   "source": [
    "## Exit SHORT limit order"
   ]
  },
  {
   "cell_type": "code",
   "execution_count": null,
   "metadata": {},
   "outputs": [],
   "source": []
  },
  {
   "attachments": {},
   "cell_type": "markdown",
   "metadata": {},
   "source": [
    "##"
   ]
  }
 ],
 "metadata": {
  "kernelspec": {
   "display_name": "Python 3",
   "language": "python",
   "name": "python3"
  },
  "language_info": {
   "codemirror_mode": {
    "name": "ipython",
    "version": 3
   },
   "file_extension": ".py",
   "mimetype": "text/x-python",
   "name": "python",
   "nbconvert_exporter": "python",
   "pygments_lexer": "ipython3",
   "version": "3.10.9"
  },
  "orig_nbformat": 4,
  "vscode": {
   "interpreter": {
    "hash": "6d739d11eeae48e7d68aed3be280d72ce9447f75811953e9348ccec163806a34"
   }
  }
 },
 "nbformat": 4,
 "nbformat_minor": 2
}
