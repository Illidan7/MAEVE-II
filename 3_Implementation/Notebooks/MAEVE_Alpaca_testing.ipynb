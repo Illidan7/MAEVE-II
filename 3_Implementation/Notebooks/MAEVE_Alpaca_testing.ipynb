{
 "cells": [
  {
   "attachments": {},
   "cell_type": "markdown",
   "metadata": {},
   "source": [
    "## Import libraries"
   ]
  },
  {
   "cell_type": "code",
   "execution_count": 11,
   "metadata": {},
   "outputs": [],
   "source": [
    "import pandas as pd\n",
    "import numpy as np\n",
    "\n",
    "import datetime\n",
    "from datetime import timedelta\n",
    "\n",
    "from tqdm.notebook import tqdm\n",
    "\n",
    "import plotly.graph_objects as go\n"
   ]
  },
  {
   "cell_type": "code",
   "execution_count": 12,
   "metadata": {},
   "outputs": [],
   "source": [
    "# Importing the api and instantiating the rest client according to our keys\n",
    "import alpaca_trade_api as api\n",
    "import random\n",
    "\n",
    "API_KEY = \"PKQWO17YBRKWNADAWBCN\"\n",
    "API_SECRET = \"BKCY0ziiNifeAlsIlvHRCqK2SZ5EE306Qvk8P6Eb\"\n",
    "BASE_URL = \"https://paper-api.alpaca.markets\"\n",
    "\n",
    "alpaca = api.REST(API_KEY, API_SECRET, BASE_URL)\n"
   ]
  },
  {
   "attachments": {},
   "cell_type": "markdown",
   "metadata": {},
   "source": [
    "## BUY limit order"
   ]
  },
  {
   "cell_type": "code",
   "execution_count": 18,
   "metadata": {},
   "outputs": [],
   "source": [
    "# Buy BTC\n",
    "alpaca.submit_order(\n",
    "    symbol='BTC/USD',\n",
    "    qty=1,\n",
    "    side='buy',\n",
    "    type='limit',\n",
    "    time_in_force='gtc',\n",
    "    limit_price='20000'\n",
    ")"
   ]
  },
  {
   "attachments": {},
   "cell_type": "markdown",
   "metadata": {},
   "source": [
    "## SELL limit order"
   ]
  },
  {
   "cell_type": "code",
   "execution_count": 24,
   "metadata": {},
   "outputs": [],
   "source": [
    "# Sell BTC\n",
    "alpaca.submit_order(\n",
    "    symbol='BTC/USD',\n",
    "    qty=0.99,\n",
    "    side='sell',\n",
    "    type='limit',\n",
    "    time_in_force='gtc',\n",
    "    limit_price='20000'\n",
    ")\n"
   ]
  },
  {
   "attachments": {},
   "cell_type": "markdown",
   "metadata": {},
   "source": [
    "## Cancel open orders"
   ]
  },
  {
   "cell_type": "code",
   "execution_count": 25,
   "metadata": {},
   "outputs": [],
   "source": [
    "# Cancel all open orders\n",
    "alpaca.cancel_all_orders()"
   ]
  },
  {
   "attachments": {},
   "cell_type": "markdown",
   "metadata": {},
   "source": [
    "## Cancel specific order"
   ]
  },
  {
   "cell_type": "code",
   "execution_count": null,
   "metadata": {},
   "outputs": [],
   "source": [
    "# Get the order ID of the order to be cancelled\n",
    "order_id = '<ORDER_ID>'\n",
    "\n",
    "# Cancel the specific order\n",
    "alpaca.cancel_order(order_id)\n"
   ]
  },
  {
   "attachments": {},
   "cell_type": "markdown",
   "metadata": {},
   "source": [
    "## Stop loss order"
   ]
  },
  {
   "cell_type": "code",
   "execution_count": 34,
   "metadata": {},
   "outputs": [],
   "source": [
    "# # Buy 1 BTC with a stop loss order\n",
    "# alpaca.submit_order(\n",
    "#     symbol='BTC/USD',\n",
    "#     qty=1,\n",
    "#     side='buy',\n",
    "#     type='stop_loss',\n",
    "#     time_in_force='gtc',\n",
    "#     stop_loss={'stop_price': 45000}\n",
    "# )\n"
   ]
  },
  {
   "attachments": {},
   "cell_type": "markdown",
   "metadata": {},
   "source": [
    "## SHORT market order"
   ]
  },
  {
   "cell_type": "code",
   "execution_count": 35,
   "metadata": {},
   "outputs": [],
   "source": [
    "\n",
    "# # Short 1 BTC with a market order\n",
    "# alpaca.submit_order(\n",
    "#     symbol='BTC/USD',\n",
    "#     qty=-1,\n",
    "#     side='sell',\n",
    "#     type='market',\n",
    "#     time_in_force='gtc'\n",
    "# )\n"
   ]
  },
  {
   "attachments": {},
   "cell_type": "markdown",
   "metadata": {},
   "source": [
    "## Exit SHORT limit order"
   ]
  },
  {
   "cell_type": "code",
   "execution_count": null,
   "metadata": {},
   "outputs": [],
   "source": []
  },
  {
   "attachments": {},
   "cell_type": "markdown",
   "metadata": {},
   "source": [
    "##"
   ]
  }
 ],
 "metadata": {
  "kernelspec": {
   "display_name": "base",
   "language": "python",
   "name": "python3"
  },
  "language_info": {
   "codemirror_mode": {
    "name": "ipython",
    "version": 3
   },
   "file_extension": ".py",
   "mimetype": "text/x-python",
   "name": "python",
   "nbconvert_exporter": "python",
   "pygments_lexer": "ipython3",
   "version": "3.9.7 (default, Sep 16 2021, 16:59:28) [MSC v.1916 64 bit (AMD64)]"
  },
  "orig_nbformat": 4,
  "vscode": {
   "interpreter": {
    "hash": "5a6dbb5c2f9750d9c977a7722390ef805f484a1de4c80f4733f3e63e10d84d62"
   }
  }
 },
 "nbformat": 4,
 "nbformat_minor": 2
}
