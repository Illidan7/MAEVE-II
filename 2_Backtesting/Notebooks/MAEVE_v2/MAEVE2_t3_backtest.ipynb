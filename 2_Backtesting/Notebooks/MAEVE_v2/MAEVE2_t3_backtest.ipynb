{
 "cells": [
  {
   "attachments": {},
   "cell_type": "markdown",
   "metadata": {},
   "source": [
    "## Import libraries and setup"
   ]
  },
  {
   "cell_type": "code",
   "execution_count": null,
   "metadata": {},
   "outputs": [],
   "source": [
    "import pandas as pd\n",
    "import numpy as np\n",
    "import itertools\n",
    "\n",
    "import optuna\n",
    "\n",
    "import datetime\n",
    "from datetime import timedelta\n",
    "\n",
    "from tqdm import tqdm\n",
    "\n",
    "import plotly.graph_objects as go\n",
    "\n",
    "import logging\n",
    "\n",
    "import sys\n",
    "sys.path.append(\"S://Docs//Personal//MAEVE//MAEVE-II//2_Backtesting//Scripts//\")\n",
    "\n",
    "import BackTester as bt"
   ]
  },
  {
   "cell_type": "code",
   "execution_count": null,
   "metadata": {},
   "outputs": [],
   "source": [
    "\n",
    "init_cash = 10000.00\n",
    "\n",
    "data_loc = \"S://Docs//Personal//MAEVE//Data//\"\n",
    "\n",
    "log_loc = \"S://Docs//Personal//MAEVE//Data//logs//MAEVE2_t3_backtest.log\"\n",
    "\n",
    "# Log file set up\n",
    "logging.basicConfig(filename=log_loc, level=logging.INFO)"
   ]
  },
  {
   "attachments": {},
   "cell_type": "markdown",
   "metadata": {},
   "source": [
    "## Read in data"
   ]
  },
  {
   "cell_type": "code",
   "execution_count": null,
   "metadata": {},
   "outputs": [],
   "source": [
    "path = data_loc + \"BTC_price_1h.csv\"\n",
    "btc_df = pd.read_csv(path)\n",
    "\n",
    "print(f\"Data shape: {btc_df.shape}\")\n",
    "\n",
    "print(f\"Date range: {btc_df.Datetime.min()} - {btc_df.Datetime.max()}\")"
   ]
  },
  {
   "attachments": {},
   "cell_type": "markdown",
   "metadata": {},
   "source": [
    "## Calculate Technical Indicators"
   ]
  },
  {
   "cell_type": "code",
   "execution_count": null,
   "metadata": {},
   "outputs": [],
   "source": [
    "bt1 = bt.BackTester(btc_df, mode=\"opt\")"
   ]
  },
  {
   "cell_type": "code",
   "execution_count": null,
   "metadata": {},
   "outputs": [],
   "source": [
    "# Calculate MA\n",
    "MALst = [8, 12, 20, 21, 24, 30, 40, 48, 50, 60, 100, 200]\n",
    "\n",
    "for MA in MALst:\n",
    "    btc_df = bt1.calc_MA(btc_df, MA)\n",
    "\n",
    "\n",
    "# Calculate ATR\n",
    "ATRLst1 = list(range(7,71,7))\n",
    "ATRLst2 = list(range(5,51,5))\n",
    "\n",
    "ATRLst = list(set(ATRLst1 + ATRLst2))\n",
    "\n",
    "for ATR in ATRLst:\n",
    "    btc_df = bt1.calc_ATR(btc_df, ATR)\n",
    "\n",
    "\n",
    "btc_df.shape"
   ]
  },
  {
   "attachments": {},
   "cell_type": "markdown",
   "metadata": {},
   "source": [
    "## Testing"
   ]
  },
  {
   "cell_type": "code",
   "execution_count": null,
   "metadata": {},
   "outputs": [],
   "source": [
    "# MA1,MA2,mult1,ATR1,MA3,MA4,mult2,ATR2,stoploss,streaklim,trailing\n",
    "\n",
    "# 'MA8','MA40',4.0,'ATR56','MA8','MA40',4.0,'ATR56',0.05,0,True -> 159.54\n",
    "\n",
    "# 'MA8','MA30',3.0,'ATR49','MA48','MA30',2.5,'ATR35',0.05,0,True -> 271.87\n",
    "\n",
    "\n",
    "# BUY\n",
    "MA1 = 'MA8' \n",
    "MA2 = 'MA30'\n",
    "mult1 = 3\n",
    "ATR1 = 'ATR49'\n",
    "\n",
    "# SELL\n",
    "MA3 = 'MA48'\n",
    "MA4 = 'MA30'\n",
    "mult2 = 2.5\n",
    "ATR2 = 'ATR35'\n",
    "\n",
    "# Position management\n",
    "stoploss = 0.05\n",
    "streaklim = 0\n",
    "trailing = True"
   ]
  },
  {
   "cell_type": "code",
   "execution_count": null,
   "metadata": {},
   "outputs": [],
   "source": [
    "bt1 = bt.BackTester(btc_df, mode=\"opt\")\n",
    "backtest_df, trades_df, figs, summary = bt1.maeve2_t3_backtest((MA1,MA2,mult1,ATR1,MA3,MA4,mult2,ATR2,stoploss,streaklim,trailing))"
   ]
  },
  {
   "cell_type": "code",
   "execution_count": null,
   "metadata": {},
   "outputs": [],
   "source": [
    "backtest_df"
   ]
  },
  {
   "cell_type": "code",
   "execution_count": null,
   "metadata": {},
   "outputs": [],
   "source": [
    "len(trades_df['alltime'])"
   ]
  },
  {
   "cell_type": "code",
   "execution_count": null,
   "metadata": {},
   "outputs": [],
   "source": [
    "figs['alltime']"
   ]
  },
  {
   "attachments": {},
   "cell_type": "markdown",
   "metadata": {},
   "source": [
    "## Backtest MAEVE strategy with Optuna"
   ]
  },
  {
   "cell_type": "code",
   "execution_count": null,
   "metadata": {},
   "outputs": [],
   "source": [
    "params = {\n",
    "            'func': 'self.maeve2_t3_backtest_obj', \n",
    "            'n_trials': 100000, \n",
    "            'timeout': (6*60*60), \n",
    "            'n_jobs': -1, \n",
    "            'show_progress_bar': True\n",
    "            }\n",
    "\n",
    "bt_ = bt.BackTester(btc_df, mode=\"opt\")\n",
    "\n",
    "study = bt_.run_maeve_backtest_opt(params=params)"
   ]
  },
  {
   "cell_type": "code",
   "execution_count": null,
   "metadata": {},
   "outputs": [],
   "source": [
    "best_params = study.best_trial.params\n",
    "\n",
    "print(f\"\\tBest Performance: {study.best_value:.5f} %\")\n",
    "print(f\"\\tBest params:\")\n",
    "\n",
    "for key, value in study.best_params.items():\n",
    "    print(f\"\\t\\t{key}: {value}\")"
   ]
  },
  {
   "attachments": {},
   "cell_type": "markdown",
   "metadata": {},
   "source": [
    "## Save Optuna Study"
   ]
  },
  {
   "cell_type": "code",
   "execution_count": null,
   "metadata": {},
   "outputs": [],
   "source": [
    "optuna_df = pd.DataFrame()\n",
    "\n",
    "metric = []\n",
    "MA1 = []\n",
    "MA2 = []\n",
    "mult1 = []\n",
    "ATR1 = []\n",
    "MA3 = []\n",
    "MA4 = []\n",
    "mult2 = []\n",
    "ATR2 = []\n",
    "stoploss = []\n",
    "streaklim = []\n",
    "trailing = []\n",
    "\n",
    "for result in study.trials:\n",
    "    if result.values:\n",
    "        metric.append(result.values[0])\n",
    "        MA1.append(result.params['MA1'])\n",
    "        MA2.append(result.params['MA2'])\n",
    "        mult1.append(result.params['mult1'])\n",
    "        ATR1.append(result.params['ATR1'])\n",
    "        MA3.append(result.params['MA3'])\n",
    "        MA4.append(result.params['MA4'])\n",
    "        mult2.append(result.params['mult2'])\n",
    "        ATR2.append(result.params['ATR2'])\n",
    "        stoploss.append(result.params['stoploss'])\n",
    "        streaklim.append(result.params['streaklim'])\n",
    "        trailing.append(result.params['trailing'])\n",
    "        \n",
    "\n",
    "optuna_df['MA1'] = MA1\n",
    "optuna_df['MA2'] = MA2\n",
    "optuna_df['mult1'] = mult1\n",
    "optuna_df['ATR1'] = ATR1\n",
    "optuna_df['MA3'] = MA3\n",
    "optuna_df['MA4'] = MA4\n",
    "optuna_df['mult2'] = mult2\n",
    "optuna_df['ATR2'] = ATR2\n",
    "optuna_df['stoploss'] = stoploss\n",
    "optuna_df['streaklim'] = streaklim\n",
    "optuna_df['trailing'] = trailing\n",
    "optuna_df['yield'] = metric\n"
   ]
  },
  {
   "cell_type": "code",
   "execution_count": null,
   "metadata": {},
   "outputs": [],
   "source": [
    "optuna_df.sort_values(by=['yield'], ascending=False).head()"
   ]
  },
  {
   "cell_type": "code",
   "execution_count": null,
   "metadata": {},
   "outputs": [],
   "source": [
    "temp = optuna_df[optuna_df['yield']>90].drop_duplicates().copy()\n",
    "temp.shape"
   ]
  },
  {
   "cell_type": "code",
   "execution_count": null,
   "metadata": {},
   "outputs": [],
   "source": [
    "path = data_loc + \"optuna_maeve2_t3.csv\"\n",
    "\n",
    "optuna_df.to_csv(path, index=False)"
   ]
  },
  {
   "cell_type": "code",
   "execution_count": null,
   "metadata": {},
   "outputs": [],
   "source": [
    "path = data_loc + \"optuna_maeve2_t3.pkl\"\n",
    "\n",
    "bt1.pickle_dump(path, study)"
   ]
  },
  {
   "attachments": {},
   "cell_type": "markdown",
   "metadata": {},
   "source": [
    "## Optuna results"
   ]
  },
  {
   "cell_type": "code",
   "execution_count": null,
   "metadata": {},
   "outputs": [],
   "source": [
    "path = data_loc + \"optuna_maeve2_t3.pkl\"\n",
    "study = bt1.pickle_load(path)"
   ]
  },
  {
   "cell_type": "code",
   "execution_count": null,
   "metadata": {},
   "outputs": [],
   "source": [
    "# optuna.importance.get_param_importances(study)"
   ]
  },
  {
   "cell_type": "code",
   "execution_count": null,
   "metadata": {},
   "outputs": [],
   "source": [
    "# optuna.visualization.plot_param_importances(study)"
   ]
  },
  {
   "cell_type": "code",
   "execution_count": null,
   "metadata": {},
   "outputs": [],
   "source": [
    "optuna.visualization.plot_optimization_history(study)"
   ]
  },
  {
   "cell_type": "code",
   "execution_count": null,
   "metadata": {},
   "outputs": [],
   "source": [
    "optuna.visualization.plot_slice(study)"
   ]
  },
  {
   "cell_type": "markdown",
   "metadata": {},
   "source": []
  }
 ],
 "metadata": {
  "kernelspec": {
   "display_name": "Python 3",
   "language": "python",
   "name": "python3"
  },
  "language_info": {
   "codemirror_mode": {
    "name": "ipython",
    "version": 3
   },
   "file_extension": ".py",
   "mimetype": "text/x-python",
   "name": "python",
   "nbconvert_exporter": "python",
   "pygments_lexer": "ipython3",
   "version": "3.10.10"
  },
  "orig_nbformat": 4,
  "vscode": {
   "interpreter": {
    "hash": "6d739d11eeae48e7d68aed3be280d72ce9447f75811953e9348ccec163806a34"
   }
  }
 },
 "nbformat": 4,
 "nbformat_minor": 2
}
