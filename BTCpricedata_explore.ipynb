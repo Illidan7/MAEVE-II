{
 "cells": [
  {
   "attachments": {},
   "cell_type": "markdown",
   "metadata": {},
   "source": [
    "## Import libraries"
   ]
  },
  {
   "cell_type": "code",
   "execution_count": 22,
   "metadata": {},
   "outputs": [],
   "source": [
    "import pandas as pd\n",
    "import numpy as np\n",
    "import datetime\n",
    "from datetime import timedelta"
   ]
  },
  {
   "attachments": {},
   "cell_type": "markdown",
   "metadata": {},
   "source": [
    "## Data location"
   ]
  },
  {
   "cell_type": "code",
   "execution_count": 23,
   "metadata": {},
   "outputs": [],
   "source": [
    "data_loc = \"S://Docs//Personal//MAEVE//Data//\""
   ]
  },
  {
   "attachments": {},
   "cell_type": "markdown",
   "metadata": {},
   "source": [
    "## Pull data"
   ]
  },
  {
   "cell_type": "code",
   "execution_count": 24,
   "metadata": {},
   "outputs": [
    {
     "name": "stdout",
     "output_type": "stream",
     "text": [
      "Data shape: (17017, 7)\n",
      "Date range: 2021-02-01 00:00:00+00:00 - 2023-01-20 13:00:00+00:00\n"
     ]
    }
   ],
   "source": [
    "path = data_loc + \"BTC_price_1h.csv\"\n",
    "df = pd.read_csv(path)\n",
    "\n",
    "print(f\"Data shape: {df.shape}\")\n",
    "\n",
    "print(f\"Date range: {df.Datetime.min()} - {df.Datetime.max()}\")"
   ]
  },
  {
   "attachments": {},
   "cell_type": "markdown",
   "metadata": {},
   "source": [
    "## Custom functions"
   ]
  },
  {
   "cell_type": "code",
   "execution_count": 25,
   "metadata": {},
   "outputs": [],
   "source": [
    "def calc_MA(df, timeperiod):\n",
    "    df[f'MA{timeperiod}'] = df['Close'].rolling(window=timeperiod).mean()\n",
    "    return df"
   ]
  },
  {
   "cell_type": "code",
   "execution_count": null,
   "metadata": {},
   "outputs": [],
   "source": [
    "def log_trade(price, pos, cash, sats, init_cash=100):\n",
    "\n",
    "    df = pd.DataFrame()\n",
    "\n",
    "    df['price'] = [price]\n",
    "    df['tradeType'] = [pos]\n",
    "    df['cash'] = [cash]\n",
    "    df['sats'] = [sats]\n",
    "    df['profit/loss'] = np.where(df['sats'] > 0,\n",
    "                                 (df['sats']*df['price']) - init_cash, df['cash'] - init_cash)\n",
    "\n",
    "    return df\n"
   ]
  },
  {
   "attachments": {},
   "cell_type": "markdown",
   "metadata": {},
   "source": [
    "## Identify test periods"
   ]
  },
  {
   "cell_type": "code",
   "execution_count": null,
   "metadata": {},
   "outputs": [],
   "source": [
    "# Bull market\n",
    "# Bear market\n",
    "# Black swan events: Covid, FTX, Luna/3AC\n",
    "# Bullish news: Tesla buy in, Futures ETF approval\n",
    "# Accumulation/ flat\n",
    "# Low volume time periods"
   ]
  },
  {
   "attachments": {},
   "cell_type": "markdown",
   "metadata": {},
   "source": [
    "## Calculate moving averages"
   ]
  },
  {
   "cell_type": "code",
   "execution_count": 26,
   "metadata": {},
   "outputs": [
    {
     "data": {
      "text/plain": [
       "(17017, 17)"
      ]
     },
     "execution_count": 26,
     "metadata": {},
     "output_type": "execute_result"
    }
   ],
   "source": [
    "# Calculate MA\n",
    "MALst = [12, 20, 24, 30, 40, 48, 50, 60, 100, 200]\n",
    "\n",
    "for MA in MALst:\n",
    "    df = calc_MA(df, MA)\n",
    "\n",
    "df.shape\n"
   ]
  },
  {
   "cell_type": "code",
   "execution_count": 29,
   "metadata": {},
   "outputs": [
    {
     "name": "stdout",
     "output_type": "stream",
     "text": [
      "Final cash value: 0\n",
      "Final sats value: 0.00301445\n"
     ]
    }
   ],
   "source": [
    "# Initialize the strategy variables\n",
    "current_position = None  # \"buy\" or \"sell\"\n",
    "cash = 100.00  # Starting cash\n",
    "sats = 0  # Starting BTC\n",
    "\n",
    "trades_df = pd.DataFrame()\n",
    "\n",
    "# Iterate over the rows of the dataframe\n",
    "for index, row in df.iterrows():\n",
    "    # Calculate the MA20 and MA40\n",
    "    MA20 = row['MA20']\n",
    "    MA40 = row['MA40']\n",
    "\n",
    "    # Check if the MA20 is higher than the MA40\n",
    "    if MA20 > MA40:\n",
    "        # If we're not currently holding any BTC, buy BTC\n",
    "        if current_position != \"buy\":\n",
    "            sats = round(cash / row['Close'], 8)\n",
    "            cash = 0\n",
    "            current_position = \"buy\"\n",
    "            trades_df = pd.concat([trades_df, log_trade(row['Close'], current_position, cash, sats)])\n",
    "            \n",
    "    # Check if the MA20 is lower than the MA40\n",
    "    elif MA20 < MA40:\n",
    "        # If we're currently holding BTC, sell\n",
    "        if current_position == \"buy\":\n",
    "            cash = round(sats * row['Close'], 2)\n",
    "            sats = 0\n",
    "            current_position = \"sell\"\n",
    "            trades_df = pd.concat([trades_df, log_trade(row['Close'], current_position, cash, sats)])\n",
    "\n",
    "# Print the final cash and sats value\n",
    "print(\"Final cash value:\", cash)\n",
    "print(\"Final sats value:\", sats)\n"
   ]
  },
  {
   "cell_type": "code",
   "execution_count": 30,
   "metadata": {},
   "outputs": [
    {
     "data": {
      "text/html": [
       "<div>\n",
       "<style scoped>\n",
       "    .dataframe tbody tr th:only-of-type {\n",
       "        vertical-align: middle;\n",
       "    }\n",
       "\n",
       "    .dataframe tbody tr th {\n",
       "        vertical-align: top;\n",
       "    }\n",
       "\n",
       "    .dataframe thead th {\n",
       "        text-align: right;\n",
       "    }\n",
       "</style>\n",
       "<table border=\"1\" class=\"dataframe\">\n",
       "  <thead>\n",
       "    <tr style=\"text-align: right;\">\n",
       "      <th></th>\n",
       "      <th>price</th>\n",
       "      <th>tradeType</th>\n",
       "      <th>cash</th>\n",
       "      <th>sats</th>\n",
       "      <th>profit/loss</th>\n",
       "    </tr>\n",
       "  </thead>\n",
       "  <tbody>\n",
       "    <tr>\n",
       "      <th>0</th>\n",
       "      <td>34678.085938</td>\n",
       "      <td>buy</td>\n",
       "      <td>0.00</td>\n",
       "      <td>0.002884</td>\n",
       "      <td>0.000156</td>\n",
       "    </tr>\n",
       "    <tr>\n",
       "      <th>0</th>\n",
       "      <td>37264.953125</td>\n",
       "      <td>sell</td>\n",
       "      <td>107.46</td>\n",
       "      <td>0.000000</td>\n",
       "      <td>7.460000</td>\n",
       "    </tr>\n",
       "    <tr>\n",
       "      <th>0</th>\n",
       "      <td>37727.167969</td>\n",
       "      <td>buy</td>\n",
       "      <td>0.00</td>\n",
       "      <td>0.002848</td>\n",
       "      <td>7.460179</td>\n",
       "    </tr>\n",
       "    <tr>\n",
       "      <th>0</th>\n",
       "      <td>38789.417969</td>\n",
       "      <td>sell</td>\n",
       "      <td>110.49</td>\n",
       "      <td>0.000000</td>\n",
       "      <td>10.490000</td>\n",
       "    </tr>\n",
       "    <tr>\n",
       "      <th>0</th>\n",
       "      <td>43241.972656</td>\n",
       "      <td>buy</td>\n",
       "      <td>0.00</td>\n",
       "      <td>0.002555</td>\n",
       "      <td>10.490159</td>\n",
       "    </tr>\n",
       "    <tr>\n",
       "      <th>...</th>\n",
       "      <td>...</td>\n",
       "      <td>...</td>\n",
       "      <td>...</td>\n",
       "      <td>...</td>\n",
       "      <td>...</td>\n",
       "    </tr>\n",
       "    <tr>\n",
       "      <th>0</th>\n",
       "      <td>17422.755859</td>\n",
       "      <td>buy</td>\n",
       "      <td>0.00</td>\n",
       "      <td>0.003048</td>\n",
       "      <td>-46.899970</td>\n",
       "    </tr>\n",
       "    <tr>\n",
       "      <th>0</th>\n",
       "      <td>20791.261719</td>\n",
       "      <td>sell</td>\n",
       "      <td>63.37</td>\n",
       "      <td>0.000000</td>\n",
       "      <td>-36.630000</td>\n",
       "    </tr>\n",
       "    <tr>\n",
       "      <th>0</th>\n",
       "      <td>20879.103516</td>\n",
       "      <td>buy</td>\n",
       "      <td>0.00</td>\n",
       "      <td>0.003035</td>\n",
       "      <td>-36.630042</td>\n",
       "    </tr>\n",
       "    <tr>\n",
       "      <th>0</th>\n",
       "      <td>20949.736328</td>\n",
       "      <td>sell</td>\n",
       "      <td>63.58</td>\n",
       "      <td>0.000000</td>\n",
       "      <td>-36.420000</td>\n",
       "    </tr>\n",
       "    <tr>\n",
       "      <th>0</th>\n",
       "      <td>21091.748047</td>\n",
       "      <td>buy</td>\n",
       "      <td>0.00</td>\n",
       "      <td>0.003014</td>\n",
       "      <td>-36.419980</td>\n",
       "    </tr>\n",
       "  </tbody>\n",
       "</table>\n",
       "<p>503 rows × 5 columns</p>\n",
       "</div>"
      ],
      "text/plain": [
       "           price tradeType    cash      sats  profit/loss\n",
       "0   34678.085938       buy    0.00  0.002884     0.000156\n",
       "0   37264.953125      sell  107.46  0.000000     7.460000\n",
       "0   37727.167969       buy    0.00  0.002848     7.460179\n",
       "0   38789.417969      sell  110.49  0.000000    10.490000\n",
       "0   43241.972656       buy    0.00  0.002555    10.490159\n",
       "..           ...       ...     ...       ...          ...\n",
       "0   17422.755859       buy    0.00  0.003048   -46.899970\n",
       "0   20791.261719      sell   63.37  0.000000   -36.630000\n",
       "0   20879.103516       buy    0.00  0.003035   -36.630042\n",
       "0   20949.736328      sell   63.58  0.000000   -36.420000\n",
       "0   21091.748047       buy    0.00  0.003014   -36.419980\n",
       "\n",
       "[503 rows x 5 columns]"
      ]
     },
     "execution_count": 30,
     "metadata": {},
     "output_type": "execute_result"
    }
   ],
   "source": [
    "trades_df"
   ]
  },
  {
   "cell_type": "code",
   "execution_count": 31,
   "metadata": {},
   "outputs": [
    {
     "data": {
      "text/plain": [
       "34.18000000000001"
      ]
     },
     "execution_count": 31,
     "metadata": {},
     "output_type": "execute_result"
    }
   ],
   "source": [
    "trades_df['profit/loss'].max()\n"
   ]
  },
  {
   "cell_type": "code",
   "execution_count": 32,
   "metadata": {},
   "outputs": [
    {
     "data": {
      "text/plain": [
       "-47.94007500578125"
      ]
     },
     "execution_count": 32,
     "metadata": {},
     "output_type": "execute_result"
    }
   ],
   "source": [
    "trades_df['profit/loss'].min()\n"
   ]
  }
 ],
 "metadata": {
  "kernelspec": {
   "display_name": "base",
   "language": "python",
   "name": "python3"
  },
  "language_info": {
   "codemirror_mode": {
    "name": "ipython",
    "version": 3
   },
   "file_extension": ".py",
   "mimetype": "text/x-python",
   "name": "python",
   "nbconvert_exporter": "python",
   "pygments_lexer": "ipython3",
   "version": "3.9.7"
  },
  "orig_nbformat": 4,
  "vscode": {
   "interpreter": {
    "hash": "5a6dbb5c2f9750d9c977a7722390ef805f484a1de4c80f4733f3e63e10d84d62"
   }
  }
 },
 "nbformat": 4,
 "nbformat_minor": 2
}
