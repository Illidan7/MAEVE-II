{
 "cells": [
  {
   "attachments": {},
   "cell_type": "markdown",
   "metadata": {},
   "source": [
    "## Import libraries"
   ]
  },
  {
   "cell_type": "code",
   "execution_count": 1,
   "metadata": {},
   "outputs": [],
   "source": [
    "import pandas as pd\n",
    "import numpy as np\n",
    "import datetime\n",
    "from datetime import timedelta"
   ]
  },
  {
   "attachments": {},
   "cell_type": "markdown",
   "metadata": {},
   "source": [
    "## Data location"
   ]
  },
  {
   "cell_type": "code",
   "execution_count": 2,
   "metadata": {},
   "outputs": [],
   "source": [
    "data_loc = \"S://Docs//Personal//MAEVE//Data//\""
   ]
  },
  {
   "attachments": {},
   "cell_type": "markdown",
   "metadata": {},
   "source": [
    "## Pull data"
   ]
  },
  {
   "cell_type": "code",
   "execution_count": 3,
   "metadata": {},
   "outputs": [
    {
     "name": "stdout",
     "output_type": "stream",
     "text": [
      "Data shape: (17017, 7)\n",
      "Date range: 2021-02-01 00:00:00+00:00 - 2023-01-20 13:00:00+00:00\n"
     ]
    }
   ],
   "source": [
    "path = data_loc + \"BTC_price_1h.csv\"\n",
    "df = pd.read_csv(path)\n",
    "\n",
    "print(f\"Data shape: {df.shape}\")\n",
    "\n",
    "print(f\"Date range: {df.Datetime.min()} - {df.Datetime.max()}\")"
   ]
  },
  {
   "attachments": {},
   "cell_type": "markdown",
   "metadata": {},
   "source": [
    "## Custom functions"
   ]
  },
  {
   "cell_type": "code",
   "execution_count": 4,
   "metadata": {},
   "outputs": [],
   "source": [
    "def calc_MA(df, timeperiod):\n",
    "    df[f'MA{timeperiod}'] = df['Close'].rolling(window=timeperiod).mean()\n",
    "    return df"
   ]
  },
  {
   "attachments": {},
   "cell_type": "markdown",
   "metadata": {},
   "source": [
    "## Calculate moving averages"
   ]
  },
  {
   "cell_type": "code",
   "execution_count": 5,
   "metadata": {},
   "outputs": [
    {
     "data": {
      "text/plain": [
       "(17017, 17)"
      ]
     },
     "execution_count": 5,
     "metadata": {},
     "output_type": "execute_result"
    }
   ],
   "source": [
    "# Calculate MA\n",
    "MALst = [12, 20, 24, 30, 40, 48, 50, 60, 100, 200]\n",
    "\n",
    "for MA in MALst:\n",
    "    df = calc_MA(df, MA)\n",
    "\n",
    "df.shape\n"
   ]
  },
  {
   "cell_type": "code",
   "execution_count": 7,
   "metadata": {},
   "outputs": [
    {
     "data": {
      "text/html": [
       "<div>\n",
       "<style scoped>\n",
       "    .dataframe tbody tr th:only-of-type {\n",
       "        vertical-align: middle;\n",
       "    }\n",
       "\n",
       "    .dataframe tbody tr th {\n",
       "        vertical-align: top;\n",
       "    }\n",
       "\n",
       "    .dataframe thead th {\n",
       "        text-align: right;\n",
       "    }\n",
       "</style>\n",
       "<table border=\"1\" class=\"dataframe\">\n",
       "  <thead>\n",
       "    <tr style=\"text-align: right;\">\n",
       "      <th></th>\n",
       "      <th>Datetime</th>\n",
       "      <th>Open</th>\n",
       "      <th>High</th>\n",
       "      <th>Low</th>\n",
       "      <th>Close</th>\n",
       "      <th>Adj Close</th>\n",
       "      <th>Volume</th>\n",
       "      <th>MA12</th>\n",
       "      <th>MA20</th>\n",
       "      <th>MA24</th>\n",
       "      <th>MA30</th>\n",
       "      <th>MA40</th>\n",
       "      <th>MA48</th>\n",
       "      <th>MA50</th>\n",
       "      <th>MA60</th>\n",
       "      <th>MA100</th>\n",
       "      <th>MA200</th>\n",
       "    </tr>\n",
       "  </thead>\n",
       "  <tbody>\n",
       "    <tr>\n",
       "      <th>0</th>\n",
       "      <td>2021-02-01 00:00:00+00:00</td>\n",
       "      <td>33114.578125</td>\n",
       "      <td>33114.578125</td>\n",
       "      <td>32384.228516</td>\n",
       "      <td>32551.958984</td>\n",
       "      <td>32551.958984</td>\n",
       "      <td>0</td>\n",
       "      <td>NaN</td>\n",
       "      <td>NaN</td>\n",
       "      <td>NaN</td>\n",
       "      <td>NaN</td>\n",
       "      <td>NaN</td>\n",
       "      <td>NaN</td>\n",
       "      <td>NaN</td>\n",
       "      <td>NaN</td>\n",
       "      <td>NaN</td>\n",
       "      <td>NaN</td>\n",
       "    </tr>\n",
       "    <tr>\n",
       "      <th>1</th>\n",
       "      <td>2021-02-01 01:00:00+00:00</td>\n",
       "      <td>32556.548828</td>\n",
       "      <td>33470.128906</td>\n",
       "      <td>32556.548828</td>\n",
       "      <td>33450.535156</td>\n",
       "      <td>33450.535156</td>\n",
       "      <td>1724944384</td>\n",
       "      <td>NaN</td>\n",
       "      <td>NaN</td>\n",
       "      <td>NaN</td>\n",
       "      <td>NaN</td>\n",
       "      <td>NaN</td>\n",
       "      <td>NaN</td>\n",
       "      <td>NaN</td>\n",
       "      <td>NaN</td>\n",
       "      <td>NaN</td>\n",
       "      <td>NaN</td>\n",
       "    </tr>\n",
       "    <tr>\n",
       "      <th>2</th>\n",
       "      <td>2021-02-01 02:00:00+00:00</td>\n",
       "      <td>33448.257812</td>\n",
       "      <td>33769.785156</td>\n",
       "      <td>33331.187500</td>\n",
       "      <td>33655.015625</td>\n",
       "      <td>33655.015625</td>\n",
       "      <td>458350592</td>\n",
       "      <td>NaN</td>\n",
       "      <td>NaN</td>\n",
       "      <td>NaN</td>\n",
       "      <td>NaN</td>\n",
       "      <td>NaN</td>\n",
       "      <td>NaN</td>\n",
       "      <td>NaN</td>\n",
       "      <td>NaN</td>\n",
       "      <td>NaN</td>\n",
       "      <td>NaN</td>\n",
       "    </tr>\n",
       "    <tr>\n",
       "      <th>3</th>\n",
       "      <td>2021-02-01 03:00:00+00:00</td>\n",
       "      <td>33654.921875</td>\n",
       "      <td>33712.281250</td>\n",
       "      <td>33531.136719</td>\n",
       "      <td>33562.886719</td>\n",
       "      <td>33562.886719</td>\n",
       "      <td>782512128</td>\n",
       "      <td>NaN</td>\n",
       "      <td>NaN</td>\n",
       "      <td>NaN</td>\n",
       "      <td>NaN</td>\n",
       "      <td>NaN</td>\n",
       "      <td>NaN</td>\n",
       "      <td>NaN</td>\n",
       "      <td>NaN</td>\n",
       "      <td>NaN</td>\n",
       "      <td>NaN</td>\n",
       "    </tr>\n",
       "    <tr>\n",
       "      <th>4</th>\n",
       "      <td>2021-02-01 04:00:00+00:00</td>\n",
       "      <td>33567.050781</td>\n",
       "      <td>33815.316406</td>\n",
       "      <td>33484.789062</td>\n",
       "      <td>33563.953125</td>\n",
       "      <td>33563.953125</td>\n",
       "      <td>1084145664</td>\n",
       "      <td>NaN</td>\n",
       "      <td>NaN</td>\n",
       "      <td>NaN</td>\n",
       "      <td>NaN</td>\n",
       "      <td>NaN</td>\n",
       "      <td>NaN</td>\n",
       "      <td>NaN</td>\n",
       "      <td>NaN</td>\n",
       "      <td>NaN</td>\n",
       "      <td>NaN</td>\n",
       "    </tr>\n",
       "  </tbody>\n",
       "</table>\n",
       "</div>"
      ],
      "text/plain": [
       "                    Datetime          Open          High           Low  \\\n",
       "0  2021-02-01 00:00:00+00:00  33114.578125  33114.578125  32384.228516   \n",
       "1  2021-02-01 01:00:00+00:00  32556.548828  33470.128906  32556.548828   \n",
       "2  2021-02-01 02:00:00+00:00  33448.257812  33769.785156  33331.187500   \n",
       "3  2021-02-01 03:00:00+00:00  33654.921875  33712.281250  33531.136719   \n",
       "4  2021-02-01 04:00:00+00:00  33567.050781  33815.316406  33484.789062   \n",
       "\n",
       "          Close     Adj Close      Volume  MA12  MA20  MA24  MA30  MA40  MA48  \\\n",
       "0  32551.958984  32551.958984           0   NaN   NaN   NaN   NaN   NaN   NaN   \n",
       "1  33450.535156  33450.535156  1724944384   NaN   NaN   NaN   NaN   NaN   NaN   \n",
       "2  33655.015625  33655.015625   458350592   NaN   NaN   NaN   NaN   NaN   NaN   \n",
       "3  33562.886719  33562.886719   782512128   NaN   NaN   NaN   NaN   NaN   NaN   \n",
       "4  33563.953125  33563.953125  1084145664   NaN   NaN   NaN   NaN   NaN   NaN   \n",
       "\n",
       "   MA50  MA60  MA100  MA200  \n",
       "0   NaN   NaN    NaN    NaN  \n",
       "1   NaN   NaN    NaN    NaN  \n",
       "2   NaN   NaN    NaN    NaN  \n",
       "3   NaN   NaN    NaN    NaN  \n",
       "4   NaN   NaN    NaN    NaN  "
      ]
     },
     "execution_count": 7,
     "metadata": {},
     "output_type": "execute_result"
    }
   ],
   "source": [
    "df.head()"
   ]
  },
  {
   "cell_type": "code",
   "execution_count": 13,
   "metadata": {},
   "outputs": [],
   "source": [
    "def log_trade(price, pos, cash, sats):\n",
    "    \n",
    "    df = pd.DataFrame()\n",
    "    \n",
    "    df['price'] = [price]\n",
    "    df['tradeType'] = [pos]\n",
    "    df['cash'] = [cash]\n",
    "    df['sats'] = [sats]\n",
    "    \n",
    "    return df"
   ]
  },
  {
   "cell_type": "code",
   "execution_count": 15,
   "metadata": {},
   "outputs": [
    {
     "name": "stdout",
     "output_type": "stream",
     "text": [
      "Final cash value: 0\n",
      "Final sats value: 0.00301445\n"
     ]
    }
   ],
   "source": [
    "# Initialize the strategy variables\n",
    "current_position = None  # \"buy\" or \"sell\"\n",
    "cash = 100.00  # Starting cash\n",
    "sats = 0  # Starting BTC\n",
    "\n",
    "trades_df = pd.DataFrame()\n",
    "\n",
    "# Iterate over the rows of the dataframe\n",
    "for index, row in df.iterrows():\n",
    "    # Calculate the MA20 and MA40\n",
    "    MA20 = row['MA20']\n",
    "    MA40 = row['MA40']\n",
    "\n",
    "    # Check if the MA20 is higher than the MA40\n",
    "    if MA20 > MA40:\n",
    "        # If we're not currently holding any BTC, buy BTC\n",
    "        if current_position != \"buy\":\n",
    "            sats = round(cash / row['Close'], 8)\n",
    "            cash = 0\n",
    "            current_position = \"buy\"\n",
    "            trades_df = pd.concat([trades_df, log_trade(row['Close'], current_position, cash, sats)])\n",
    "            \n",
    "    # Check if the MA20 is lower than the MA40\n",
    "    elif MA20 < MA40:\n",
    "        # If we're currently holding BTC, sell\n",
    "        if current_position == \"buy\":\n",
    "            cash = round(sats * row['Close'], 2)\n",
    "            sats = 0\n",
    "            current_position = \"sell\"\n",
    "            trades_df = pd.concat([trades_df, log_trade(row['Close'], current_position, cash, sats)])\n",
    "\n",
    "# Print the final cash and sats value\n",
    "print(\"Final cash value:\", cash)\n",
    "print(\"Final sats value:\", sats)\n"
   ]
  },
  {
   "cell_type": "code",
   "execution_count": 16,
   "metadata": {},
   "outputs": [
    {
     "data": {
      "text/html": [
       "<div>\n",
       "<style scoped>\n",
       "    .dataframe tbody tr th:only-of-type {\n",
       "        vertical-align: middle;\n",
       "    }\n",
       "\n",
       "    .dataframe tbody tr th {\n",
       "        vertical-align: top;\n",
       "    }\n",
       "\n",
       "    .dataframe thead th {\n",
       "        text-align: right;\n",
       "    }\n",
       "</style>\n",
       "<table border=\"1\" class=\"dataframe\">\n",
       "  <thead>\n",
       "    <tr style=\"text-align: right;\">\n",
       "      <th></th>\n",
       "      <th>price</th>\n",
       "      <th>tradeType</th>\n",
       "      <th>cash</th>\n",
       "      <th>sats</th>\n",
       "    </tr>\n",
       "  </thead>\n",
       "  <tbody>\n",
       "    <tr>\n",
       "      <th>0</th>\n",
       "      <td>34678.085938</td>\n",
       "      <td>buy</td>\n",
       "      <td>0.00</td>\n",
       "      <td>0.002884</td>\n",
       "    </tr>\n",
       "    <tr>\n",
       "      <th>0</th>\n",
       "      <td>37264.953125</td>\n",
       "      <td>sell</td>\n",
       "      <td>107.46</td>\n",
       "      <td>0.000000</td>\n",
       "    </tr>\n",
       "    <tr>\n",
       "      <th>0</th>\n",
       "      <td>37727.167969</td>\n",
       "      <td>buy</td>\n",
       "      <td>0.00</td>\n",
       "      <td>0.002848</td>\n",
       "    </tr>\n",
       "    <tr>\n",
       "      <th>0</th>\n",
       "      <td>38789.417969</td>\n",
       "      <td>sell</td>\n",
       "      <td>110.49</td>\n",
       "      <td>0.000000</td>\n",
       "    </tr>\n",
       "    <tr>\n",
       "      <th>0</th>\n",
       "      <td>43241.972656</td>\n",
       "      <td>buy</td>\n",
       "      <td>0.00</td>\n",
       "      <td>0.002555</td>\n",
       "    </tr>\n",
       "    <tr>\n",
       "      <th>...</th>\n",
       "      <td>...</td>\n",
       "      <td>...</td>\n",
       "      <td>...</td>\n",
       "      <td>...</td>\n",
       "    </tr>\n",
       "    <tr>\n",
       "      <th>0</th>\n",
       "      <td>17422.755859</td>\n",
       "      <td>buy</td>\n",
       "      <td>0.00</td>\n",
       "      <td>0.003048</td>\n",
       "    </tr>\n",
       "    <tr>\n",
       "      <th>0</th>\n",
       "      <td>20791.261719</td>\n",
       "      <td>sell</td>\n",
       "      <td>63.37</td>\n",
       "      <td>0.000000</td>\n",
       "    </tr>\n",
       "    <tr>\n",
       "      <th>0</th>\n",
       "      <td>20879.103516</td>\n",
       "      <td>buy</td>\n",
       "      <td>0.00</td>\n",
       "      <td>0.003035</td>\n",
       "    </tr>\n",
       "    <tr>\n",
       "      <th>0</th>\n",
       "      <td>20949.736328</td>\n",
       "      <td>sell</td>\n",
       "      <td>63.58</td>\n",
       "      <td>0.000000</td>\n",
       "    </tr>\n",
       "    <tr>\n",
       "      <th>0</th>\n",
       "      <td>21091.748047</td>\n",
       "      <td>buy</td>\n",
       "      <td>0.00</td>\n",
       "      <td>0.003014</td>\n",
       "    </tr>\n",
       "  </tbody>\n",
       "</table>\n",
       "<p>503 rows × 4 columns</p>\n",
       "</div>"
      ],
      "text/plain": [
       "           price tradeType    cash      sats\n",
       "0   34678.085938       buy    0.00  0.002884\n",
       "0   37264.953125      sell  107.46  0.000000\n",
       "0   37727.167969       buy    0.00  0.002848\n",
       "0   38789.417969      sell  110.49  0.000000\n",
       "0   43241.972656       buy    0.00  0.002555\n",
       "..           ...       ...     ...       ...\n",
       "0   17422.755859       buy    0.00  0.003048\n",
       "0   20791.261719      sell   63.37  0.000000\n",
       "0   20879.103516       buy    0.00  0.003035\n",
       "0   20949.736328      sell   63.58  0.000000\n",
       "0   21091.748047       buy    0.00  0.003014\n",
       "\n",
       "[503 rows x 4 columns]"
      ]
     },
     "execution_count": 16,
     "metadata": {},
     "output_type": "execute_result"
    }
   ],
   "source": [
    "trades_df"
   ]
  }
 ],
 "metadata": {
  "kernelspec": {
   "display_name": "base",
   "language": "python",
   "name": "python3"
  },
  "language_info": {
   "codemirror_mode": {
    "name": "ipython",
    "version": 3
   },
   "file_extension": ".py",
   "mimetype": "text/x-python",
   "name": "python",
   "nbconvert_exporter": "python",
   "pygments_lexer": "ipython3",
   "version": "3.9.7"
  },
  "orig_nbformat": 4,
  "vscode": {
   "interpreter": {
    "hash": "5a6dbb5c2f9750d9c977a7722390ef805f484a1de4c80f4733f3e63e10d84d62"
   }
  }
 },
 "nbformat": 4,
 "nbformat_minor": 2
}
